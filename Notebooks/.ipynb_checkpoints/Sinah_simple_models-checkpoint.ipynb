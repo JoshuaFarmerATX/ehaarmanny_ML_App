{
 "cells": [
  {
   "cell_type": "code",
   "execution_count": 1,
   "metadata": {},
   "outputs": [],
   "source": [
    "import pandas as pd\n",
    "import numpy as np\n",
    "import requests \n",
    "\n",
    "from sklearn.model_selection import cross_validate\n",
    "from sklearn.model_selection import cross_val_score\n",
    "from sklearn.model_selection import TimeSeriesSplit\n",
    "from sklearn.model_selection import KFold \n",
    "from sklearn.pipeline import make_pipeline \n",
    "from sklearn.preprocessing import StandardScaler\n",
    "\n",
    "from sklearn.linear_model import LinearRegression\n",
    "from sklearn.tree import DecisionTreeRegressor\n",
    "from sklearn.ensemble import RandomForestRegressor"
   ]
  },
  {
   "cell_type": "code",
   "execution_count": 2,
   "metadata": {},
   "outputs": [],
   "source": [
    "## Import and clean data (copied from Daniela's script)\n",
    "\n",
    "r = requests.get(\"https://api-pc6dbtrtla-uc.a.run.app/API/timeseries/usa\")\n",
    "response_dict = r.json()\n",
    "df = pd.DataFrame.from_dict(response_dict)\n",
    "df = df.rename(columns={'Total Results as of Date': 'Date'})\n",
    "Days = (np.array([i for i in range (len(df.Date))]).reshape(-1,1))+1\n",
    "df['Days'] = Days "
   ]
  },
  {
   "cell_type": "code",
   "execution_count": 3,
   "metadata": {},
   "outputs": [
    {
     "data": {
      "text/html": [
       "<div>\n",
       "<style scoped>\n",
       "    .dataframe tbody tr th:only-of-type {\n",
       "        vertical-align: middle;\n",
       "    }\n",
       "\n",
       "    .dataframe tbody tr th {\n",
       "        vertical-align: top;\n",
       "    }\n",
       "\n",
       "    .dataframe thead th {\n",
       "        text-align: right;\n",
       "    }\n",
       "</style>\n",
       "<table border=\"1\" class=\"dataframe\">\n",
       "  <thead>\n",
       "    <tr style=\"text-align: right;\">\n",
       "      <th></th>\n",
       "      <th>ISO3</th>\n",
       "      <th>Country</th>\n",
       "      <th>Date</th>\n",
       "      <th>Cases</th>\n",
       "      <th>Deaths</th>\n",
       "      <th>Recovered</th>\n",
       "      <th>Days</th>\n",
       "    </tr>\n",
       "  </thead>\n",
       "  <tbody>\n",
       "    <tr>\n",
       "      <th>0</th>\n",
       "      <td>USA</td>\n",
       "      <td>US</td>\n",
       "      <td>2020-01-22</td>\n",
       "      <td>1.0</td>\n",
       "      <td>0.0</td>\n",
       "      <td>0.0</td>\n",
       "      <td>1</td>\n",
       "    </tr>\n",
       "    <tr>\n",
       "      <th>1</th>\n",
       "      <td>USA</td>\n",
       "      <td>US</td>\n",
       "      <td>2020-01-23</td>\n",
       "      <td>1.0</td>\n",
       "      <td>0.0</td>\n",
       "      <td>0.0</td>\n",
       "      <td>2</td>\n",
       "    </tr>\n",
       "    <tr>\n",
       "      <th>2</th>\n",
       "      <td>USA</td>\n",
       "      <td>US</td>\n",
       "      <td>2020-01-24</td>\n",
       "      <td>2.0</td>\n",
       "      <td>0.0</td>\n",
       "      <td>0.0</td>\n",
       "      <td>3</td>\n",
       "    </tr>\n",
       "    <tr>\n",
       "      <th>3</th>\n",
       "      <td>USA</td>\n",
       "      <td>US</td>\n",
       "      <td>2020-01-25</td>\n",
       "      <td>2.0</td>\n",
       "      <td>0.0</td>\n",
       "      <td>0.0</td>\n",
       "      <td>4</td>\n",
       "    </tr>\n",
       "    <tr>\n",
       "      <th>4</th>\n",
       "      <td>USA</td>\n",
       "      <td>US</td>\n",
       "      <td>2020-01-26</td>\n",
       "      <td>5.0</td>\n",
       "      <td>0.0</td>\n",
       "      <td>0.0</td>\n",
       "      <td>5</td>\n",
       "    </tr>\n",
       "    <tr>\n",
       "      <th>...</th>\n",
       "      <td>...</td>\n",
       "      <td>...</td>\n",
       "      <td>...</td>\n",
       "      <td>...</td>\n",
       "      <td>...</td>\n",
       "      <td>...</td>\n",
       "      <td>...</td>\n",
       "    </tr>\n",
       "    <tr>\n",
       "      <th>99</th>\n",
       "      <td>USA</td>\n",
       "      <td>US</td>\n",
       "      <td>2020-04-30</td>\n",
       "      <td>1069424.0</td>\n",
       "      <td>62996.0</td>\n",
       "      <td>153947.0</td>\n",
       "      <td>100</td>\n",
       "    </tr>\n",
       "    <tr>\n",
       "      <th>100</th>\n",
       "      <td>USA</td>\n",
       "      <td>US</td>\n",
       "      <td>2020-05-01</td>\n",
       "      <td>1103461.0</td>\n",
       "      <td>64943.0</td>\n",
       "      <td>164015.0</td>\n",
       "      <td>101</td>\n",
       "    </tr>\n",
       "    <tr>\n",
       "      <th>101</th>\n",
       "      <td>USA</td>\n",
       "      <td>US</td>\n",
       "      <td>2020-05-02</td>\n",
       "      <td>1132539.0</td>\n",
       "      <td>66369.0</td>\n",
       "      <td>175382.0</td>\n",
       "      <td>102</td>\n",
       "    </tr>\n",
       "    <tr>\n",
       "      <th>102</th>\n",
       "      <td>USA</td>\n",
       "      <td>US</td>\n",
       "      <td>2020-05-03</td>\n",
       "      <td>1158040.0</td>\n",
       "      <td>67682.0</td>\n",
       "      <td>180152.0</td>\n",
       "      <td>103</td>\n",
       "    </tr>\n",
       "    <tr>\n",
       "      <th>103</th>\n",
       "      <td>USA</td>\n",
       "      <td>US</td>\n",
       "      <td>2020-05-04</td>\n",
       "      <td>1180375.0</td>\n",
       "      <td>68922.0</td>\n",
       "      <td>187180.0</td>\n",
       "      <td>104</td>\n",
       "    </tr>\n",
       "  </tbody>\n",
       "</table>\n",
       "<p>104 rows × 7 columns</p>\n",
       "</div>"
      ],
      "text/plain": [
       "    ISO3 Country        Date      Cases   Deaths  Recovered  Days\n",
       "0    USA      US  2020-01-22        1.0      0.0        0.0     1\n",
       "1    USA      US  2020-01-23        1.0      0.0        0.0     2\n",
       "2    USA      US  2020-01-24        2.0      0.0        0.0     3\n",
       "3    USA      US  2020-01-25        2.0      0.0        0.0     4\n",
       "4    USA      US  2020-01-26        5.0      0.0        0.0     5\n",
       "..   ...     ...         ...        ...      ...        ...   ...\n",
       "99   USA      US  2020-04-30  1069424.0  62996.0   153947.0   100\n",
       "100  USA      US  2020-05-01  1103461.0  64943.0   164015.0   101\n",
       "101  USA      US  2020-05-02  1132539.0  66369.0   175382.0   102\n",
       "102  USA      US  2020-05-03  1158040.0  67682.0   180152.0   103\n",
       "103  USA      US  2020-05-04  1180375.0  68922.0   187180.0   104\n",
       "\n",
       "[104 rows x 7 columns]"
      ]
     },
     "execution_count": 3,
     "metadata": {},
     "output_type": "execute_result"
    }
   ],
   "source": [
    "df"
   ]
  },
  {
   "cell_type": "code",
   "execution_count": 4,
   "metadata": {},
   "outputs": [],
   "source": [
    "## Models predicting confirmed cases \n",
    "\n",
    "X = df[[\"Days\"]]\n",
    "y_confirmed = df[\"Cases\"]\n",
    "\n",
    "tscv = TimeSeriesSplit(n_splits=5)\n",
    "\n",
    "# To see scoring options: https://scikit-learn.org/stable/modules/model_evaluation.html#scoring-parameter"
   ]
  },
  {
   "cell_type": "code",
   "execution_count": 5,
   "metadata": {},
   "outputs": [
    {
     "data": {
      "text/plain": [
       "-102250513255.19186"
      ]
     },
     "execution_count": 5,
     "metadata": {},
     "output_type": "execute_result"
    }
   ],
   "source": [
    "# Linear Regression\n",
    "\n",
    "lr = LinearRegression()\n",
    "cross_validate(lr, X, y_confirmed, cv=tscv, scoring=\"neg_mean_squared_error\")[\"test_score\"].mean()"
   ]
  },
  {
   "cell_type": "code",
   "execution_count": 6,
   "metadata": {},
   "outputs": [
    {
     "data": {
      "text/plain": [
       "-143805207205.22748"
      ]
     },
     "execution_count": 6,
     "metadata": {},
     "output_type": "execute_result"
    }
   ],
   "source": [
    "cross_validate(lr, X, y_confirmed, scoring=\"neg_mean_squared_error\")[\"test_score\"].mean()"
   ]
  },
  {
   "cell_type": "code",
   "execution_count": 7,
   "metadata": {},
   "outputs": [
    {
     "data": {
      "text/plain": [
       "-37769339622.94118"
      ]
     },
     "execution_count": 7,
     "metadata": {},
     "output_type": "execute_result"
    }
   ],
   "source": [
    "# Decision Tree\n",
    "\n",
    "dt = DecisionTreeRegressor()\n",
    "cross_validate(dt, X, y_confirmed, cv=tscv, scoring=\"neg_mean_squared_error\")[\"test_score\"].mean()"
   ]
  },
  {
   "cell_type": "code",
   "execution_count": 8,
   "metadata": {},
   "outputs": [
    {
     "data": {
      "text/plain": [
       "-29850290716.654285"
      ]
     },
     "execution_count": 8,
     "metadata": {},
     "output_type": "execute_result"
    }
   ],
   "source": [
    "cross_validate(dt, X, y_confirmed, scoring=\"neg_mean_squared_error\")[\"test_score\"].mean()"
   ]
  },
  {
   "cell_type": "code",
   "execution_count": 9,
   "metadata": {},
   "outputs": [
    {
     "data": {
      "text/plain": [
       "-41110940978.045494"
      ]
     },
     "execution_count": 9,
     "metadata": {},
     "output_type": "execute_result"
    }
   ],
   "source": [
    "# Random Forest \n",
    "\n",
    "rf = RandomForestRegressor()\n",
    "cross_validate(rf, X, y_confirmed, cv=tscv, scoring=\"neg_mean_squared_error\")[\"test_score\"].mean()"
   ]
  },
  {
   "cell_type": "code",
   "execution_count": 10,
   "metadata": {},
   "outputs": [
    {
     "data": {
      "text/plain": [
       "-31296781901.567524"
      ]
     },
     "execution_count": 10,
     "metadata": {},
     "output_type": "execute_result"
    }
   ],
   "source": [
    "cross_validate(rf, X, y_confirmed, scoring=\"neg_mean_squared_error\")[\"test_score\"].mean()"
   ]
  },
  {
   "cell_type": "code",
   "execution_count": 11,
   "metadata": {},
   "outputs": [
    {
     "data": {
      "text/plain": [
       "-37769339622.94118"
      ]
     },
     "execution_count": 11,
     "metadata": {},
     "output_type": "execute_result"
    }
   ],
   "source": [
    "# Scaled Decision Tree\n",
    "\n",
    "dt_scaled = make_pipeline(StandardScaler(), DecisionTreeRegressor())\n",
    "cross_validate(dt_scaled, X, y_confirmed, cv=tscv, scoring=\"neg_mean_squared_error\")[\"test_score\"].mean()"
   ]
  },
  {
   "cell_type": "code",
   "execution_count": 12,
   "metadata": {},
   "outputs": [
    {
     "data": {
      "text/plain": [
       "-29888087113.987617"
      ]
     },
     "execution_count": 12,
     "metadata": {},
     "output_type": "execute_result"
    }
   ],
   "source": [
    "cross_validate(dt_scaled, X, y_confirmed, scoring=\"neg_mean_squared_error\")[\"test_score\"].mean()"
   ]
  },
  {
   "cell_type": "code",
   "execution_count": 13,
   "metadata": {},
   "outputs": [
    {
     "data": {
      "text/plain": [
       "-41150741753.757614"
      ]
     },
     "execution_count": 13,
     "metadata": {},
     "output_type": "execute_result"
    }
   ],
   "source": [
    "# Scaled Random Forest\n",
    "\n",
    "rf_scaled = make_pipeline(StandardScaler(), RandomForestRegressor())\n",
    "cross_validate(rf_scaled, X, y_confirmed, cv=tscv, scoring=\"neg_mean_squared_error\")[\"test_score\"].mean()"
   ]
  },
  {
   "cell_type": "code",
   "execution_count": 14,
   "metadata": {},
   "outputs": [
    {
     "data": {
      "text/plain": [
       "-31359309703.50506"
      ]
     },
     "execution_count": 14,
     "metadata": {},
     "output_type": "execute_result"
    }
   ],
   "source": [
    "cross_validate(rf_scaled, X, y_confirmed, scoring=\"neg_mean_squared_error\")[\"test_score\"].mean()"
   ]
  },
  {
   "cell_type": "code",
   "execution_count": 15,
   "metadata": {},
   "outputs": [],
   "source": [
    "## Models predicting deaths\n",
    "\n",
    "X = df[[\"Days\"]]\n",
    "y_deaths = df[\"Deaths\"]\n",
    "\n",
    "tscv = TimeSeriesSplit(n_splits=5)"
   ]
  },
  {
   "cell_type": "code",
   "execution_count": 16,
   "metadata": {},
   "outputs": [
    {
     "data": {
      "text/plain": [
       "-386966511.5848629"
      ]
     },
     "execution_count": 16,
     "metadata": {},
     "output_type": "execute_result"
    }
   ],
   "source": [
    "# Linear Regression\n",
    "\n",
    "lr = LinearRegression()\n",
    "cross_validate(lr, X, y_deaths, cv=tscv, scoring=\"neg_mean_squared_error\")[\"test_score\"].mean()"
   ]
  },
  {
   "cell_type": "code",
   "execution_count": 17,
   "metadata": {},
   "outputs": [
    {
     "data": {
      "text/plain": [
       "-143975976.67058823"
      ]
     },
     "execution_count": 17,
     "metadata": {},
     "output_type": "execute_result"
    }
   ],
   "source": [
    "# Decision Tree\n",
    "\n",
    "dt = DecisionTreeRegressor()\n",
    "cross_validate(dt, X, y_deaths, cv=tscv, scoring=\"neg_mean_squared_error\")[\"test_score\"].mean()"
   ]
  },
  {
   "cell_type": "code",
   "execution_count": 18,
   "metadata": {},
   "outputs": [
    {
     "data": {
      "text/plain": [
       "-157065920.10374352"
      ]
     },
     "execution_count": 18,
     "metadata": {},
     "output_type": "execute_result"
    }
   ],
   "source": [
    "# Random Forest \n",
    "\n",
    "rf = RandomForestRegressor()\n",
    "cross_validate(rf, X, y_deaths, cv=tscv, scoring=\"neg_mean_squared_error\")[\"test_score\"].mean()"
   ]
  },
  {
   "cell_type": "code",
   "execution_count": 19,
   "metadata": {},
   "outputs": [
    {
     "data": {
      "text/plain": [
       "-37769339622.94118"
      ]
     },
     "execution_count": 19,
     "metadata": {},
     "output_type": "execute_result"
    }
   ],
   "source": [
    "# Scaled Decision Tree\n",
    "\n",
    "dt_scaled = make_pipeline(StandardScaler(), DecisionTreeRegressor())\n",
    "cross_validate(dt_scaled, X, y_confirmed, cv=tscv, scoring=\"neg_mean_squared_error\")[\"test_score\"].mean()"
   ]
  },
  {
   "cell_type": "code",
   "execution_count": 20,
   "metadata": {},
   "outputs": [
    {
     "data": {
      "text/plain": [
       "-159389629.53290707"
      ]
     },
     "execution_count": 20,
     "metadata": {},
     "output_type": "execute_result"
    }
   ],
   "source": [
    "# Scaled Random Forest\n",
    "\n",
    "rf_scaled = make_pipeline(StandardScaler(), RandomForestRegressor())\n",
    "cross_validate(rf_scaled, X, y_deaths, cv=tscv, scoring=\"neg_mean_squared_error\")[\"test_score\"].mean()"
   ]
  },
  {
   "cell_type": "code",
   "execution_count": null,
   "metadata": {},
   "outputs": [],
   "source": []
  }
 ],
 "metadata": {
  "kernelspec": {
   "display_name": "project3_env",
   "language": "python",
   "name": "project3_env"
  },
  "language_info": {
   "codemirror_mode": {
    "name": "ipython",
    "version": 3
   },
   "file_extension": ".py",
   "mimetype": "text/x-python",
   "name": "python",
   "nbconvert_exporter": "python",
   "pygments_lexer": "ipython3",
   "version": "3.7.5"
  }
 },
 "nbformat": 4,
 "nbformat_minor": 4
}
