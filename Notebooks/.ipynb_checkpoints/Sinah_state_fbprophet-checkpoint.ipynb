{
 "cells": [
  {
   "cell_type": "code",
   "execution_count": 1,
   "metadata": {},
   "outputs": [],
   "source": [
    "import pandas as pd\n",
    "import numpy as np\n",
    "import requests \n",
    "import matplotlib.pyplot as plt\n",
    "import datetime \n",
    "from fbprophet import Prophet \n",
    "from fbprophet.diagnostics import cross_validation\n",
    "from fbprophet.diagnostics import performance_metrics\n",
    "from fbprophet.plot import plot_cross_validation_metric\n",
    "\n",
    "from fbprophet.plot import plot_plotly\n",
    "import plotly.offline as py\n",
    "import streamlit as st"
   ]
  },
  {
   "cell_type": "code",
   "execution_count": 2,
   "metadata": {},
   "outputs": [
    {
     "ename": "KeyError",
     "evalue": "'Date'",
     "output_type": "error",
     "traceback": [
      "\u001b[0;31m---------------------------------------------------------------------------\u001b[0m",
      "\u001b[0;31mKeyError\u001b[0m                                  Traceback (most recent call last)",
      "\u001b[0;32m~/.local/share/virtualenvs/ehaarmanny_ML_App-lvKciCwn/lib/python3.7/site-packages/pandas/core/indexes/base.py\u001b[0m in \u001b[0;36mget_loc\u001b[0;34m(self, key, method, tolerance)\u001b[0m\n\u001b[1;32m   2645\u001b[0m             \u001b[0;32mtry\u001b[0m\u001b[0;34m:\u001b[0m\u001b[0;34m\u001b[0m\u001b[0;34m\u001b[0m\u001b[0m\n\u001b[0;32m-> 2646\u001b[0;31m                 \u001b[0;32mreturn\u001b[0m \u001b[0mself\u001b[0m\u001b[0;34m.\u001b[0m\u001b[0m_engine\u001b[0m\u001b[0;34m.\u001b[0m\u001b[0mget_loc\u001b[0m\u001b[0;34m(\u001b[0m\u001b[0mkey\u001b[0m\u001b[0;34m)\u001b[0m\u001b[0;34m\u001b[0m\u001b[0;34m\u001b[0m\u001b[0m\n\u001b[0m\u001b[1;32m   2647\u001b[0m             \u001b[0;32mexcept\u001b[0m \u001b[0mKeyError\u001b[0m\u001b[0;34m:\u001b[0m\u001b[0;34m\u001b[0m\u001b[0;34m\u001b[0m\u001b[0m\n",
      "\u001b[0;32mpandas/_libs/index.pyx\u001b[0m in \u001b[0;36mpandas._libs.index.IndexEngine.get_loc\u001b[0;34m()\u001b[0m\n",
      "\u001b[0;32mpandas/_libs/index.pyx\u001b[0m in \u001b[0;36mpandas._libs.index.IndexEngine.get_loc\u001b[0;34m()\u001b[0m\n",
      "\u001b[0;32mpandas/_libs/hashtable_class_helper.pxi\u001b[0m in \u001b[0;36mpandas._libs.hashtable.PyObjectHashTable.get_item\u001b[0;34m()\u001b[0m\n",
      "\u001b[0;32mpandas/_libs/hashtable_class_helper.pxi\u001b[0m in \u001b[0;36mpandas._libs.hashtable.PyObjectHashTable.get_item\u001b[0;34m()\u001b[0m\n",
      "\u001b[0;31mKeyError\u001b[0m: 'Date'",
      "\nDuring handling of the above exception, another exception occurred:\n",
      "\u001b[0;31mKeyError\u001b[0m                                  Traceback (most recent call last)",
      "\u001b[0;32m<ipython-input-2-55d742aa01c0>\u001b[0m in \u001b[0;36m<module>\u001b[0;34m\u001b[0m\n\u001b[1;32m      2\u001b[0m \u001b[0mdf\u001b[0m \u001b[0;34m=\u001b[0m \u001b[0mpd\u001b[0m\u001b[0;34m.\u001b[0m\u001b[0mread_json\u001b[0m\u001b[0;34m(\u001b[0m\u001b[0;34m\"https://api-pc6dbtrtla-uc.a.run.app/API/timeseries/usa\"\u001b[0m\u001b[0;34m)\u001b[0m\u001b[0;34m\u001b[0m\u001b[0;34m\u001b[0m\u001b[0m\n\u001b[1;32m      3\u001b[0m \u001b[0mdf\u001b[0m \u001b[0;34m=\u001b[0m \u001b[0mdf\u001b[0m\u001b[0;34m.\u001b[0m\u001b[0mrename\u001b[0m\u001b[0;34m(\u001b[0m\u001b[0mcolumns\u001b[0m\u001b[0;34m=\u001b[0m\u001b[0;34m{\u001b[0m\u001b[0;34m'Total Results as of Date'\u001b[0m\u001b[0;34m:\u001b[0m \u001b[0;34m'Date'\u001b[0m\u001b[0;34m}\u001b[0m\u001b[0;34m)\u001b[0m\u001b[0;34m\u001b[0m\u001b[0;34m\u001b[0m\u001b[0m\n\u001b[0;32m----> 4\u001b[0;31m \u001b[0mdf\u001b[0m\u001b[0;34m[\u001b[0m\u001b[0;34m'Date'\u001b[0m\u001b[0;34m]\u001b[0m \u001b[0;34m=\u001b[0m \u001b[0mpd\u001b[0m\u001b[0;34m.\u001b[0m\u001b[0mto_datetime\u001b[0m\u001b[0;34m(\u001b[0m\u001b[0mdf\u001b[0m\u001b[0;34m[\u001b[0m\u001b[0;34m'Date'\u001b[0m\u001b[0;34m]\u001b[0m\u001b[0;34m)\u001b[0m\u001b[0;34m.\u001b[0m\u001b[0mdt\u001b[0m\u001b[0;34m.\u001b[0m\u001b[0mdate\u001b[0m\u001b[0;34m\u001b[0m\u001b[0;34m\u001b[0m\u001b[0m\n\u001b[0m\u001b[1;32m      5\u001b[0m \u001b[0mdf\u001b[0m\u001b[0;34m[\u001b[0m\u001b[0;34m'NewCases'\u001b[0m\u001b[0;34m]\u001b[0m \u001b[0;34m=\u001b[0m \u001b[0mdf\u001b[0m\u001b[0;34m[\u001b[0m\u001b[0;34m'Cases'\u001b[0m\u001b[0;34m]\u001b[0m \u001b[0;34m-\u001b[0m \u001b[0mdf\u001b[0m\u001b[0;34m[\u001b[0m\u001b[0;34m'Cases'\u001b[0m\u001b[0;34m]\u001b[0m\u001b[0;34m.\u001b[0m\u001b[0mshift\u001b[0m\u001b[0;34m(\u001b[0m\u001b[0;36m1\u001b[0m\u001b[0;34m)\u001b[0m\u001b[0;34m\u001b[0m\u001b[0;34m\u001b[0m\u001b[0m\n\u001b[1;32m      6\u001b[0m \u001b[0mdf\u001b[0m\u001b[0;34m[\u001b[0m\u001b[0;34m'NewDeaths'\u001b[0m\u001b[0;34m]\u001b[0m \u001b[0;34m=\u001b[0m \u001b[0mdf\u001b[0m\u001b[0;34m[\u001b[0m\u001b[0;34m'Deaths'\u001b[0m\u001b[0;34m]\u001b[0m \u001b[0;34m-\u001b[0m \u001b[0mdf\u001b[0m\u001b[0;34m[\u001b[0m\u001b[0;34m'Deaths'\u001b[0m\u001b[0;34m]\u001b[0m\u001b[0;34m.\u001b[0m\u001b[0mshift\u001b[0m\u001b[0;34m(\u001b[0m\u001b[0;36m1\u001b[0m\u001b[0;34m)\u001b[0m\u001b[0;34m\u001b[0m\u001b[0;34m\u001b[0m\u001b[0m\n",
      "\u001b[0;32m~/.local/share/virtualenvs/ehaarmanny_ML_App-lvKciCwn/lib/python3.7/site-packages/pandas/core/frame.py\u001b[0m in \u001b[0;36m__getitem__\u001b[0;34m(self, key)\u001b[0m\n\u001b[1;32m   2798\u001b[0m             \u001b[0;32mif\u001b[0m \u001b[0mself\u001b[0m\u001b[0;34m.\u001b[0m\u001b[0mcolumns\u001b[0m\u001b[0;34m.\u001b[0m\u001b[0mnlevels\u001b[0m \u001b[0;34m>\u001b[0m \u001b[0;36m1\u001b[0m\u001b[0;34m:\u001b[0m\u001b[0;34m\u001b[0m\u001b[0;34m\u001b[0m\u001b[0m\n\u001b[1;32m   2799\u001b[0m                 \u001b[0;32mreturn\u001b[0m \u001b[0mself\u001b[0m\u001b[0;34m.\u001b[0m\u001b[0m_getitem_multilevel\u001b[0m\u001b[0;34m(\u001b[0m\u001b[0mkey\u001b[0m\u001b[0;34m)\u001b[0m\u001b[0;34m\u001b[0m\u001b[0;34m\u001b[0m\u001b[0m\n\u001b[0;32m-> 2800\u001b[0;31m             \u001b[0mindexer\u001b[0m \u001b[0;34m=\u001b[0m \u001b[0mself\u001b[0m\u001b[0;34m.\u001b[0m\u001b[0mcolumns\u001b[0m\u001b[0;34m.\u001b[0m\u001b[0mget_loc\u001b[0m\u001b[0;34m(\u001b[0m\u001b[0mkey\u001b[0m\u001b[0;34m)\u001b[0m\u001b[0;34m\u001b[0m\u001b[0;34m\u001b[0m\u001b[0m\n\u001b[0m\u001b[1;32m   2801\u001b[0m             \u001b[0;32mif\u001b[0m \u001b[0mis_integer\u001b[0m\u001b[0;34m(\u001b[0m\u001b[0mindexer\u001b[0m\u001b[0;34m)\u001b[0m\u001b[0;34m:\u001b[0m\u001b[0;34m\u001b[0m\u001b[0;34m\u001b[0m\u001b[0m\n\u001b[1;32m   2802\u001b[0m                 \u001b[0mindexer\u001b[0m \u001b[0;34m=\u001b[0m \u001b[0;34m[\u001b[0m\u001b[0mindexer\u001b[0m\u001b[0;34m]\u001b[0m\u001b[0;34m\u001b[0m\u001b[0;34m\u001b[0m\u001b[0m\n",
      "\u001b[0;32m~/.local/share/virtualenvs/ehaarmanny_ML_App-lvKciCwn/lib/python3.7/site-packages/pandas/core/indexes/base.py\u001b[0m in \u001b[0;36mget_loc\u001b[0;34m(self, key, method, tolerance)\u001b[0m\n\u001b[1;32m   2646\u001b[0m                 \u001b[0;32mreturn\u001b[0m \u001b[0mself\u001b[0m\u001b[0;34m.\u001b[0m\u001b[0m_engine\u001b[0m\u001b[0;34m.\u001b[0m\u001b[0mget_loc\u001b[0m\u001b[0;34m(\u001b[0m\u001b[0mkey\u001b[0m\u001b[0;34m)\u001b[0m\u001b[0;34m\u001b[0m\u001b[0;34m\u001b[0m\u001b[0m\n\u001b[1;32m   2647\u001b[0m             \u001b[0;32mexcept\u001b[0m \u001b[0mKeyError\u001b[0m\u001b[0;34m:\u001b[0m\u001b[0;34m\u001b[0m\u001b[0;34m\u001b[0m\u001b[0m\n\u001b[0;32m-> 2648\u001b[0;31m                 \u001b[0;32mreturn\u001b[0m \u001b[0mself\u001b[0m\u001b[0;34m.\u001b[0m\u001b[0m_engine\u001b[0m\u001b[0;34m.\u001b[0m\u001b[0mget_loc\u001b[0m\u001b[0;34m(\u001b[0m\u001b[0mself\u001b[0m\u001b[0;34m.\u001b[0m\u001b[0m_maybe_cast_indexer\u001b[0m\u001b[0;34m(\u001b[0m\u001b[0mkey\u001b[0m\u001b[0;34m)\u001b[0m\u001b[0;34m)\u001b[0m\u001b[0;34m\u001b[0m\u001b[0;34m\u001b[0m\u001b[0m\n\u001b[0m\u001b[1;32m   2649\u001b[0m         \u001b[0mindexer\u001b[0m \u001b[0;34m=\u001b[0m \u001b[0mself\u001b[0m\u001b[0;34m.\u001b[0m\u001b[0mget_indexer\u001b[0m\u001b[0;34m(\u001b[0m\u001b[0;34m[\u001b[0m\u001b[0mkey\u001b[0m\u001b[0;34m]\u001b[0m\u001b[0;34m,\u001b[0m \u001b[0mmethod\u001b[0m\u001b[0;34m=\u001b[0m\u001b[0mmethod\u001b[0m\u001b[0;34m,\u001b[0m \u001b[0mtolerance\u001b[0m\u001b[0;34m=\u001b[0m\u001b[0mtolerance\u001b[0m\u001b[0;34m)\u001b[0m\u001b[0;34m\u001b[0m\u001b[0;34m\u001b[0m\u001b[0m\n\u001b[1;32m   2650\u001b[0m         \u001b[0;32mif\u001b[0m \u001b[0mindexer\u001b[0m\u001b[0;34m.\u001b[0m\u001b[0mndim\u001b[0m \u001b[0;34m>\u001b[0m \u001b[0;36m1\u001b[0m \u001b[0;32mor\u001b[0m \u001b[0mindexer\u001b[0m\u001b[0;34m.\u001b[0m\u001b[0msize\u001b[0m \u001b[0;34m>\u001b[0m \u001b[0;36m1\u001b[0m\u001b[0;34m:\u001b[0m\u001b[0;34m\u001b[0m\u001b[0;34m\u001b[0m\u001b[0m\n",
      "\u001b[0;32mpandas/_libs/index.pyx\u001b[0m in \u001b[0;36mpandas._libs.index.IndexEngine.get_loc\u001b[0;34m()\u001b[0m\n",
      "\u001b[0;32mpandas/_libs/index.pyx\u001b[0m in \u001b[0;36mpandas._libs.index.IndexEngine.get_loc\u001b[0;34m()\u001b[0m\n",
      "\u001b[0;32mpandas/_libs/hashtable_class_helper.pxi\u001b[0m in \u001b[0;36mpandas._libs.hashtable.PyObjectHashTable.get_item\u001b[0;34m()\u001b[0m\n",
      "\u001b[0;32mpandas/_libs/hashtable_class_helper.pxi\u001b[0m in \u001b[0;36mpandas._libs.hashtable.PyObjectHashTable.get_item\u001b[0;34m()\u001b[0m\n",
      "\u001b[0;31mKeyError\u001b[0m: 'Date'"
     ]
    }
   ],
   "source": [
    "# Import data \n",
    "df = pd.read_json(\"https://api-pc6dbtrtla-uc.a.run.app/API/timeseries/usa\")\n",
    "df = df.rename(columns={'Totals as of Date': 'Date'})\n",
    "df['Date'] = pd.to_datetime(df['Date']).dt.date\n",
    "df['NewCases'] = df['Cases'] - df['Cases'].shift(1)\n",
    "df['NewDeaths'] = df['Deaths'] - df['Deaths'].shift(1)\n",
    "\n",
    "df_cases = df.loc[df[\"Cases\"]>=200_000]\n",
    "df_deaths = df.loc[df[\"Date\"]>=datetime.date(2020,4,8)]\n",
    "\n",
    "df_cases_fb = df_cases[[\"Date\", \"NewCases\"]].rename(columns={\"Date\": \"ds\", \"NewCases\": \"y\"})\n",
    "df_deaths_fb = df_deaths[[\"Date\", \"NewDeaths\"]].rename(columns={\"Date\": \"ds\", \"NewDeaths\": \"y\"})\n",
    "\n",
    "df"
   ]
  },
  {
   "cell_type": "code",
   "execution_count": null,
   "metadata": {},
   "outputs": [],
   "source": [
    "## Ed and Austin's Code\n",
    "\n",
    "# state_list = [\"Alabama\", \"Alaska\", \"Arizona\", \"Arkansas\", \"California\", \"Colorado\", \"Connecticut\", \"Delaware\", \"District of Columbia\",\"Florida\", \"Georgia\", \"Hawaii\", \"Idaho\", \"Illinois\", \"Indiana\", \"Iowa\", \"Kansas\", \"Kentucky\", \"Louisiana\", \"Maine\", \"Maryland\", \"Massachusetts\", \"Michigan\", \"Minnesota\", \"Mississippi\", \"Missouri\", \"Montana\", \"Nebraska\", \"Nevada\", \"New Hampshire\", \"New Jersey\", \"New Mexico\", \"New York\", \"North Carolina\", \"North Dakota\", \"Ohio\", \"Oklahoma\", \"Oregon\", \"Pennsylvania\", \"Rhode Island\", \"South Carolina\", \"South Dakota\", \"Tennessee\", \"Texas\", \"Utah\", \"Vermont\", \"Virginia\", \"Washington\", \"West Virginia\", \"Wisconsin\", \"Wyoming\"]\n",
    "# state_selector = st.selectbox(\"Select State\", state_list)\n",
    "\n",
    "# state_str = state_selector.replace(' ', \"%20\")\n",
    "# state_data_df = pd.read_json(f\"https://api-pc6dbtrtla-uc.a.run.app/API/us/timeseries/{state_str}/allcounties\")\n",
    "# st.write(state_data_df[[\"State\", \"Totals as of Date\", \"Cases\", \"Deaths\"]])\n",
    "\n",
    "# state_data_df.State.unique()"
   ]
  },
  {
   "cell_type": "code",
   "execution_count": null,
   "metadata": {},
   "outputs": [],
   "source": [
    "## Chris' Code \n",
    "\n",
    "Alabama = pd.read_json(\"http://api-pc6dbtrtla-uc.a.run.app/API/us/timeseries/totals/Alabama/\")\n",
    "Alaska = pd.read_json(\"http://api-pc6dbtrtla-uc.a.run.app/API/us/timeseries/totals/Alaska/\")\n",
    "Arizona = pd.read_json(\"http://api-pc6dbtrtla-uc.a.run.app/API/us/timeseries/totals/Arizona/\")\n",
    "Arkansas = pd.read_json(\"http://api-pc6dbtrtla-uc.a.run.app/API/us/timeseries/totals/Arkansas/\")\n",
    "California = pd.read_json(\"http://api-pc6dbtrtla-uc.a.run.app/API/us/timeseries/totals/California/\")\n",
    "Colorado = pd.read_json(\"http://api-pc6dbtrtla-uc.a.run.app/API/us/timeseries/totals/Colorado/\")\n",
    "Connecticut = pd.read_json(\"http://api-pc6dbtrtla-uc.a.run.app/API/us/timeseries/totals/Connecticut/\")\n",
    "DC = pd.read_json(\"http://api-pc6dbtrtla-uc.a.run.app/API/us/timeseries/totals/District%20of%20Columbia/\")\n",
    "Delaware = pd.read_json(\"http://api-pc6dbtrtla-uc.a.run.app/API/us/timeseries/totals/Delaware/\")\n",
    "Florida = pd.read_json(\"http://api-pc6dbtrtla-uc.a.run.app/API/us/timeseries/totals/Florida/\")\n",
    "Georgia = pd.read_json(\"http://api-pc6dbtrtla-uc.a.run.app/API/us/timeseries/totals/Georgia/\")\n",
    "Hawaii = pd.read_json(\"http://api-pc6dbtrtla-uc.a.run.app/API/us/timeseries/totals/Hawaii/\")\n",
    "Idaho = pd.read_json(\"http://api-pc6dbtrtla-uc.a.run.app/API/us/timeseries/totals/Idaho/\")\n",
    "Illinois = pd.read_json(\"http://api-pc6dbtrtla-uc.a.run.app/API/us/timeseries/totals/Illinois/\")\n",
    "Indiana = pd.read_json(\"http://api-pc6dbtrtla-uc.a.run.app/API/us/timeseries/totals/Indiana/\")\n",
    "Iowa = pd.read_json(\"http://api-pc6dbtrtla-uc.a.run.app/API/us/timeseries/totals/Iowa/\")\n",
    "Kansas = pd.read_json(\"http://api-pc6dbtrtla-uc.a.run.app/API/us/timeseries/totals/Kansas/\")\n",
    "Kentucky = pd.read_json(\"http://api-pc6dbtrtla-uc.a.run.app/API/us/timeseries/totals/Kentucky/\")\n",
    "Louisiana = pd.read_json(\"http://api-pc6dbtrtla-uc.a.run.app/API/us/timeseries/totals/Louisiana/\")\n",
    "Maine = pd.read_json(\"http://api-pc6dbtrtla-uc.a.run.app/API/us/timeseries/totals/Maine/\")\n",
    "Maryland = pd.read_json(\"http://api-pc6dbtrtla-uc.a.run.app/API/us/timeseries/totals/Maryland/\")\n",
    "Massachusetts = pd.read_json(\"http://api-pc6dbtrtla-uc.a.run.app/API/us/timeseries/totals/Massachusetts/\")\n",
    "Michigan = pd.read_json(\"http://api-pc6dbtrtla-uc.a.run.app/API/us/timeseries/totals/Michigan/\")\n",
    "Minnesota = pd.read_json(\"http://api-pc6dbtrtla-uc.a.run.app/API/us/timeseries/totals/Minnesota/\")\n",
    "Mississippi = pd.read_json(\"http://api-pc6dbtrtla-uc.a.run.app/API/us/timeseries/totals/Mississippi/\")\n",
    "Missouri = pd.read_json(\"http://api-pc6dbtrtla-uc.a.run.app/API/us/timeseries/totals/Missouri/\")\n",
    "Montana = pd.read_json(\"http://api-pc6dbtrtla-uc.a.run.app/API/us/timeseries/totals/Montana/\")\n",
    "Nebraska = pd.read_json(\"http://api-pc6dbtrtla-uc.a.run.app/API/us/timeseries/totals/Nebraska/\")\n",
    "Nevada = pd.read_json(\"http://api-pc6dbtrtla-uc.a.run.app/API/us/timeseries/totals/Nevada/\")\n",
    "New_Hampshire = pd.read_json(\"http://api-pc6dbtrtla-uc.a.run.app/API/us/timeseries/totals/New%20Hampshire/\")\n",
    "New_Jersey = pd.read_json(\"http://api-pc6dbtrtla-uc.a.run.app/API/us/timeseries/totals/New%20Jersey/\")\n",
    "New_Mexico = pd.read_json(\"http://api-pc6dbtrtla-uc.a.run.app/API/us/timeseries/totals/New%20Mexico/\")\n",
    "New_York = pd.read_json(\"http://api-pc6dbtrtla-uc.a.run.app/API/us/timeseries/totals/New%20York/\")\n",
    "North_Carolina = pd.read_json(\"http://api-pc6dbtrtla-uc.a.run.app/API/us/timeseries/totals/North%20Carolina/\")\n",
    "North_Dakota = pd.read_json(\"http://api-pc6dbtrtla-uc.a.run.app/API/us/timeseries/totals/North%20Dakota/\")\n",
    "Ohio = pd.read_json(\"http://api-pc6dbtrtla-uc.a.run.app/API/us/timeseries/totals/Ohio/\")\n",
    "Oklahoma = pd.read_json(\"http://api-pc6dbtrtla-uc.a.run.app/API/us/timeseries/totals/Oklahoma/\")\n",
    "Oregon = pd.read_json(\"http://api-pc6dbtrtla-uc.a.run.app/API/us/timeseries/totals/Oregon/\")\n",
    "Pennsylvania = pd.read_json(\"http://api-pc6dbtrtla-uc.a.run.app/API/us/timeseries/totals/Pennsylvania/\")\n",
    "Rhode_Island = pd.read_json(\"http://api-pc6dbtrtla-uc.a.run.app/API/us/timeseries/totals/Rhode%20Island/\")\n",
    "South_Carolina = pd.read_json(\"http://api-pc6dbtrtla-uc.a.run.app/API/us/timeseries/totals/South%20Carolina/\")\n",
    "South_Dakota = pd.read_json(\"http://api-pc6dbtrtla-uc.a.run.app/API/us/timeseries/totals/South%20Dakota/\")\n",
    "Tennessee = pd.read_json(\"http://api-pc6dbtrtla-uc.a.run.app/API/us/timeseries/totals/Tennessee/\")\n",
    "Texas = pd.read_json(\"http://api-pc6dbtrtla-uc.a.run.app/API/us/timeseries/totals/Texas/\")\n",
    "Utah = pd.read_json(\"http://api-pc6dbtrtla-uc.a.run.app/API/us/timeseries/totals/Utah/\")\n",
    "Vermont = pd.read_json(\"http://api-pc6dbtrtla-uc.a.run.app/API/us/timeseries/totals/Vermont/\")\n",
    "Virginia = pd.read_json(\"http://api-pc6dbtrtla-uc.a.run.app/API/us/timeseries/totals/Virginia/\")\n",
    "Washington = pd.read_json(\"http://api-pc6dbtrtla-uc.a.run.app/API/us/timeseries/totals/Washington/\")\n",
    "West_Virginia = pd.read_json(\"http://api-pc6dbtrtla-uc.a.run.app/API/us/timeseries/totals/West%20Virginia/\")\n",
    "Wisconsin = pd.read_json(\"http://api-pc6dbtrtla-uc.a.run.app/API/us/timeseries/totals/Wisconsin/\")\n",
    "Wyoming = pd.read_json(\"http://api-pc6dbtrtla-uc.a.run.app/API/us/timeseries/totals/Wyoming/\")"
   ]
  },
  {
   "cell_type": "code",
   "execution_count": null,
   "metadata": {},
   "outputs": [],
   "source": [
    "Texas = Texas.rename(columns={'Totals as of Date': 'Date'})\n",
    "Texas['Date'] = pd.to_datetime(Texas['Date']).dt.date\n",
    "Texas['NewCases'] = Texas['Cases'] - Texas['Cases'].shift(1)\n",
    "Texas['NewDeaths'] = Texas['Deaths'] - Texas['Deaths'].shift(1)\n",
    "\n",
    "Texas_cases = Texas.loc[Texas[\"Cases\"]>=200_000]\n",
    "Texas_deaths = Texas.loc[Texas[\"Date\"]>=datetime.date(2020,4,8)]\n",
    "\n",
    "Texas_cases = Texas_cases[[\"Date\", \"NewCases\"]].rename(columns={\"Date\": \"ds\", \"NewCases\": \"y\"})\n",
    "Texas_deaths= Texas_deaths[[\"Date\", \"NewDeaths\"]].rename(columns={\"Date\": \"ds\", \"NewDeaths\": \"y\"})\n",
    "\n",
    "Texas_cases"
   ]
  },
  {
   "cell_type": "code",
   "execution_count": null,
   "metadata": {},
   "outputs": [],
   "source": [
    "# Predict function \n",
    "\n",
    "def predictcases(days):\n",
    "\n",
    "    prophet = Prophet()\n",
    "    prophet.fit(df_cases_fb)\n",
    "\n",
    "    future = prophet.make_future_dataframe(periods=days)\n",
    "    forecast = prophet.predict(future)\n",
    "    df_forecast = forecast[['ds', 'yhat', 'yhat_lower', 'yhat_upper']]\n",
    "    fig_forecast = prophet.plot(forecast)\n",
    "\n",
    "    return df_forecast"
   ]
  },
  {
   "cell_type": "code",
   "execution_count": null,
   "metadata": {},
   "outputs": [],
   "source": [
    "def predictdeaths(days):\n",
    "\n",
    "    prophet = Prophet()\n",
    "    prophet.fit(df_deaths_fb)\n",
    "\n",
    "    future = prophet.make_future_dataframe(periods=days)\n",
    "    forecast = prophet.predict(future)\n",
    "    df_forecast = forecast[['ds', 'yhat', 'yhat_lower', 'yhat_upper']]\n",
    "    fig_forecast = prophet.plot(forecast)\n",
    "\n",
    "    return df_forecast\n"
   ]
  },
  {
   "cell_type": "code",
   "execution_count": null,
   "metadata": {},
   "outputs": [],
   "source": [
    "# Cross validation function\n",
    "\n",
    "def cross_validate(df):\n",
    "\n",
    "    prophet = Prophet()\n",
    "    prophet.fit(df)\n",
    "\n",
    "    df_cv = cross_validation(prophet, initial='30 days', period='4 days', horizon='7 days')\n",
    "    df_performance = performance_metrics(df_cv)\n",
    "    fig_performance = plot_cross_validation_metric(df_cv, metric='mape')\n",
    "\n",
    "    return plt.show()\n"
   ]
  },
  {
   "cell_type": "code",
   "execution_count": null,
   "metadata": {},
   "outputs": [],
   "source": [
    "predict(df_cases_fb, 30)"
   ]
  }
 ],
 "metadata": {
  "kernelspec": {
   "display_name": "eharmaany_env",
   "language": "python",
   "name": "eharmaany_env"
  },
  "language_info": {
   "codemirror_mode": {
    "name": "ipython",
    "version": 3
   },
   "file_extension": ".py",
   "mimetype": "text/x-python",
   "name": "python",
   "nbconvert_exporter": "python",
   "pygments_lexer": "ipython3",
   "version": "3.7.6"
  }
 },
 "nbformat": 4,
 "nbformat_minor": 4
}
