{
 "cells": [
  {
   "cell_type": "code",
   "execution_count": 1,
   "metadata": {},
   "outputs": [],
   "source": [
    "import requests\n",
    "import pandas as pd\n",
    "import matplotlib.pyplot as plt \n",
    "import numpy as np\n",
    "\n",
    "from sklearn.model_selection import train_test_split\n",
    "from sklearn.ensemble import RandomForestRegressor\n",
    "from sklearn.metrics import r2_score\n",
    "from sklearn.metrics import mean_squared_error\n",
    "from sklearn.model_selection import cross_val_score\n",
    "\n",
    "from sklearn.compose import ColumnTransformer\n",
    "from sklearn.preprocessing import OneHotEncoder\n"
   ]
  },
  {
   "cell_type": "code",
   "execution_count": 2,
   "metadata": {},
   "outputs": [
    {
     "data": {
      "text/html": [
       "<div>\n",
       "<style scoped>\n",
       "    .dataframe tbody tr th:only-of-type {\n",
       "        vertical-align: middle;\n",
       "    }\n",
       "\n",
       "    .dataframe tbody tr th {\n",
       "        vertical-align: top;\n",
       "    }\n",
       "\n",
       "    .dataframe thead th {\n",
       "        text-align: right;\n",
       "    }\n",
       "</style>\n",
       "<table border=\"1\" class=\"dataframe\">\n",
       "  <thead>\n",
       "    <tr style=\"text-align: right;\">\n",
       "      <th></th>\n",
       "      <th>ISO3</th>\n",
       "      <th>Country</th>\n",
       "      <th>Date</th>\n",
       "      <th>Cases</th>\n",
       "      <th>Deaths</th>\n",
       "      <th>Recovered</th>\n",
       "      <th>Days</th>\n",
       "    </tr>\n",
       "  </thead>\n",
       "  <tbody>\n",
       "    <tr>\n",
       "      <th>49</th>\n",
       "      <td>USA</td>\n",
       "      <td>US</td>\n",
       "      <td>2020-03-11</td>\n",
       "      <td>1281.0</td>\n",
       "      <td>36.0</td>\n",
       "      <td>8.0</td>\n",
       "      <td>50</td>\n",
       "    </tr>\n",
       "    <tr>\n",
       "      <th>58</th>\n",
       "      <td>ITA</td>\n",
       "      <td>Italy</td>\n",
       "      <td>2020-03-20</td>\n",
       "      <td>47021.0</td>\n",
       "      <td>4032.0</td>\n",
       "      <td>4440.0</td>\n",
       "      <td>50</td>\n",
       "    </tr>\n",
       "    <tr>\n",
       "      <th>59</th>\n",
       "      <td>ESP</td>\n",
       "      <td>Spain</td>\n",
       "      <td>2020-03-21</td>\n",
       "      <td>25374.0</td>\n",
       "      <td>1375.0</td>\n",
       "      <td>2125.0</td>\n",
       "      <td>50</td>\n",
       "    </tr>\n",
       "    <tr>\n",
       "      <th>542</th>\n",
       "      <td>GBR</td>\n",
       "      <td>United Kingdom</td>\n",
       "      <td>2020-03-11</td>\n",
       "      <td>1.0</td>\n",
       "      <td>0.0</td>\n",
       "      <td>1.0</td>\n",
       "      <td>50</td>\n",
       "    </tr>\n",
       "    <tr>\n",
       "      <th>504</th>\n",
       "      <td>FRA</td>\n",
       "      <td>France</td>\n",
       "      <td>2020-03-07</td>\n",
       "      <td>949.0</td>\n",
       "      <td>11.0</td>\n",
       "      <td>12.0</td>\n",
       "      <td>50</td>\n",
       "    </tr>\n",
       "  </tbody>\n",
       "</table>\n",
       "</div>"
      ],
      "text/plain": [
       "    ISO3         Country        Date    Cases  Deaths  Recovered  Days\n",
       "49   USA              US  2020-03-11   1281.0    36.0        8.0    50\n",
       "58   ITA           Italy  2020-03-20  47021.0  4032.0     4440.0    50\n",
       "59   ESP           Spain  2020-03-21  25374.0  1375.0     2125.0    50\n",
       "542  GBR  United Kingdom  2020-03-11      1.0     0.0        1.0    50\n",
       "504  FRA          France  2020-03-07    949.0    11.0       12.0    50"
      ]
     },
     "execution_count": 2,
     "metadata": {},
     "output_type": "execute_result"
    }
   ],
   "source": [
    "r = requests.get(\"https://api-pc6dbtrtla-uc.a.run.app/API/timeseries/usa\")\n",
    "response_dict = r.json()\n",
    "dataset1 = pd.DataFrame.from_dict(response_dict)\n",
    "dataset1 = dataset1.rename(columns={'Total Results as of Date': 'Date'})\n",
    "Days = (np.array([i for i in range (len(dataset1.Date))]).reshape(-1,1))+1\n",
    "dataset1['Days'] = Days \n",
    "\n",
    "r2 = requests.get(\"https://api-pc6dbtrtla-uc.a.run.app/API/timeseries/ita\")\n",
    "response_dict2 = r2.json()\n",
    "dataset2 = pd.DataFrame.from_dict(response_dict2)\n",
    "dataset2 = dataset2.rename(columns={'Total Results as of Date': 'Date'})\n",
    "# Drop the dates with no cases\n",
    "dataset2 = dataset2[dataset2.Cases != 0]\n",
    "# Add column Days\n",
    "Days = (np.array([i for i in range (len(dataset2.Date))]).reshape(-1,1))+1\n",
    "dataset2['Days'] = Days \n",
    "\n",
    "r3 = requests.get(\"https://api-pc6dbtrtla-uc.a.run.app/API/timeseries/esp\")\n",
    "response_dict3 = r3.json()\n",
    "dataset3 = pd.DataFrame.from_dict(response_dict3)\n",
    "dataset3 = dataset3.rename(columns={'Total Results as of Date': 'Date'})\n",
    "# Drop the dates with no cases\n",
    "dataset3 = dataset3[dataset3.Cases != 0]\n",
    "# Add column Days\n",
    "Days = (np.array([i for i in range (len(dataset3.Date))]).reshape(-1,1))+1\n",
    "dataset3['Days'] = Days \n",
    "\n",
    "r4 = requests.get(\"https://api-pc6dbtrtla-uc.a.run.app/API/timeseries/gbr\")\n",
    "response_dict4 = r4.json()\n",
    "dataset4 = pd.DataFrame.from_dict(response_dict4)\n",
    "dataset4 = dataset4.rename(columns={'Total Results as of Date': 'Date'})\n",
    "# Drop the dates with no cases\n",
    "dataset4 = dataset4[dataset4.Cases != 0]\n",
    "# Add column Days\n",
    "Days = (np.array([i for i in range (len(dataset4.Date))]).reshape(-1,1))+1\n",
    "dataset4['Days'] = Days \n",
    "\n",
    "r5 = requests.get(\"https://api-pc6dbtrtla-uc.a.run.app/API/timeseries/fra\")\n",
    "response_dict5 = r5.json()\n",
    "dataset5 = pd.DataFrame.from_dict(response_dict5)\n",
    "dataset5 = dataset5.rename(columns={'Total Results as of Date': 'Date'})\n",
    "# Drop the dates with no cases\n",
    "dataset5 = dataset5[dataset5.Cases != 0]\n",
    "# Add column Days\n",
    "Days = (np.array([i for i in range (len(dataset5.Date))]).reshape(-1,1))+1\n",
    "dataset5['Days'] = Days \n",
    "\n",
    "dataset = pd.concat([dataset1, dataset2, dataset3, dataset4, dataset5])\n",
    "# dataset\n",
    "\n",
    "dataset.loc[dataset['Days'] == 50]\n"
   ]
  },
  {
   "cell_type": "markdown",
   "metadata": {},
   "source": [
    "## -------------------------------- ** ------------------------------------\n"
   ]
  },
  {
   "cell_type": "markdown",
   "metadata": {},
   "source": [
    "## Cases"
   ]
  },
  {
   "cell_type": "code",
   "execution_count": 3,
   "metadata": {},
   "outputs": [
    {
     "data": {
      "text/plain": [
       "array([['USA', 1],\n",
       "       ['USA', 2],\n",
       "       ['USA', 3],\n",
       "       ...,\n",
       "       ['FRA', 626],\n",
       "       ['FRA', 627],\n",
       "       ['FRA', 628]], dtype=object)"
      ]
     },
     "execution_count": 3,
     "metadata": {},
     "output_type": "execute_result"
    }
   ],
   "source": [
    "X = dataset[[ \"ISO3\", \"Days\" ]].values\n",
    "y = dataset[\"Cases\"].values\n",
    "X"
   ]
  },
  {
   "cell_type": "code",
   "execution_count": 4,
   "metadata": {},
   "outputs": [
    {
     "data": {
      "text/plain": [
       "array([[0.0, 0.0, 0.0, 0.0, 1.0, 1],\n",
       "       [0.0, 0.0, 0.0, 0.0, 1.0, 2],\n",
       "       [0.0, 0.0, 0.0, 0.0, 1.0, 3],\n",
       "       ...,\n",
       "       [0.0, 1.0, 0.0, 0.0, 0.0, 626],\n",
       "       [0.0, 1.0, 0.0, 0.0, 0.0, 627],\n",
       "       [0.0, 1.0, 0.0, 0.0, 0.0, 628]], dtype=object)"
      ]
     },
     "execution_count": 4,
     "metadata": {},
     "output_type": "execute_result"
    }
   ],
   "source": [
    "# ## Encoding categorical data\n",
    "\n",
    "# # 0 for iso3 in the first column\n",
    "\n",
    "ct = ColumnTransformer(transformers=[('encoder', OneHotEncoder(), [0])], remainder='passthrough')\n",
    "X = np.array(ct.fit_transform(X))\n",
    "X"
   ]
  },
  {
   "cell_type": "code",
   "execution_count": 5,
   "metadata": {},
   "outputs": [],
   "source": [
    "# Splitting the dataset into the Training set and Test set\n",
    "X_train, X_test, y_train, y_test = train_test_split(X, y, test_size = 0.2, random_state = 42)"
   ]
  },
  {
   "cell_type": "code",
   "execution_count": 6,
   "metadata": {},
   "outputs": [
    {
     "data": {
      "text/plain": [
       "RandomForestRegressor(bootstrap=True, ccp_alpha=0.0, criterion='mse',\n",
       "                      max_depth=None, max_features='auto', max_leaf_nodes=None,\n",
       "                      max_samples=None, min_impurity_decrease=0.0,\n",
       "                      min_impurity_split=None, min_samples_leaf=1,\n",
       "                      min_samples_split=2, min_weight_fraction_leaf=0.0,\n",
       "                      n_estimators=10, n_jobs=None, oob_score=False,\n",
       "                      random_state=42, verbose=0, warm_start=False)"
      ]
     },
     "execution_count": 6,
     "metadata": {},
     "output_type": "execute_result"
    }
   ],
   "source": [
    "regressor = RandomForestRegressor(n_estimators = 10, random_state = 42)\n",
    "regressor.fit(X_train, y_train)"
   ]
  },
  {
   "cell_type": "code",
   "execution_count": 7,
   "metadata": {},
   "outputs": [],
   "source": [
    "## Predicting the Test set results\n",
    "\n",
    "y_pred = regressor.predict(X_test)\n",
    "\n",
    "\n",
    "# y_pred = regressor.predict([[0,1,0,0,0, 50]])\n",
    "# y_pred"
   ]
  },
  {
   "cell_type": "code",
   "execution_count": 8,
   "metadata": {},
   "outputs": [
    {
     "data": {
      "text/plain": [
       "0.9088623393477758"
      ]
     },
     "execution_count": 8,
     "metadata": {},
     "output_type": "execute_result"
    }
   ],
   "source": [
    "## Evaluating the Model Performance - R2 Score\n",
    "r2_score(y_test, y_pred)\n"
   ]
  },
  {
   "cell_type": "code",
   "execution_count": 9,
   "metadata": {},
   "outputs": [
    {
     "data": {
      "text/plain": [
       "1115492583.08"
      ]
     },
     "execution_count": 9,
     "metadata": {},
     "output_type": "execute_result"
    }
   ],
   "source": [
    "## Evaluating the Model Performance - Mean-squared Error\n",
    "mean_squared_error(y_test, y_pred)"
   ]
  },
  {
   "cell_type": "code",
   "execution_count": 10,
   "metadata": {},
   "outputs": [
    {
     "name": "stdout",
     "output_type": "stream",
     "text": [
      "Accuracy: 89.16 %\n",
      "Standard Deviation: 5.64 %\n"
     ]
    }
   ],
   "source": [
    "## Applying k-Fold Cross Validation\n",
    "accuracies = cross_val_score(estimator = regressor, X = X_train, y = y_train, cv = 10)\n",
    "print(\"Accuracy: {:.2f} %\".format(accuracies.mean()*100))\n",
    "print(\"Standard Deviation: {:.2f} %\".format(accuracies.std()*100))"
   ]
  },
  {
   "cell_type": "markdown",
   "metadata": {},
   "source": [
    "## -------------------------------- ** ------------------------------------"
   ]
  },
  {
   "cell_type": "markdown",
   "metadata": {},
   "source": [
    "## Recovered"
   ]
  },
  {
   "cell_type": "code",
   "execution_count": 11,
   "metadata": {},
   "outputs": [],
   "source": [
    "X_rec = dataset[[ \"ISO3\", \"Days\"]].values\n",
    "y_rec = dataset[\"Recovered\"].values"
   ]
  },
  {
   "cell_type": "code",
   "execution_count": 12,
   "metadata": {},
   "outputs": [],
   "source": [
    "# ## Encoding categorical data\n",
    "\n",
    "# # 0 for iso3 in the first column\n",
    "\n",
    "ct = ColumnTransformer(transformers=[('encoder', OneHotEncoder(), [0])], remainder='passthrough')\n",
    "X_rec = np.array(ct.fit_transform(X_rec))"
   ]
  },
  {
   "cell_type": "code",
   "execution_count": 13,
   "metadata": {},
   "outputs": [],
   "source": [
    "# Splitting the dataset into the Training set and Test set\n",
    "X_rec_train, X_rec_test, y_rec_train, y_rec_test = train_test_split(X_rec, y_rec, test_size = 0.2, random_state = 42)"
   ]
  },
  {
   "cell_type": "code",
   "execution_count": 14,
   "metadata": {},
   "outputs": [
    {
     "data": {
      "text/plain": [
       "RandomForestRegressor(bootstrap=True, ccp_alpha=0.0, criterion='mse',\n",
       "                      max_depth=None, max_features='auto', max_leaf_nodes=None,\n",
       "                      max_samples=None, min_impurity_decrease=0.0,\n",
       "                      min_impurity_split=None, min_samples_leaf=1,\n",
       "                      min_samples_split=2, min_weight_fraction_leaf=0.0,\n",
       "                      n_estimators=10, n_jobs=None, oob_score=False,\n",
       "                      random_state=42, verbose=0, warm_start=False)"
      ]
     },
     "execution_count": 14,
     "metadata": {},
     "output_type": "execute_result"
    }
   ],
   "source": [
    "regressor = RandomForestRegressor(n_estimators = 10, random_state = 42)\n",
    "regressor.fit(X_rec_train, y_rec_train)"
   ]
  },
  {
   "cell_type": "code",
   "execution_count": 15,
   "metadata": {},
   "outputs": [],
   "source": [
    "## Predicting the Test set results\n",
    "\n",
    "y_pred_rec = regressor.predict(X_rec_test)\n",
    "\n",
    "\n",
    "#y_pred_rec = regressor.predict([[1,0, 100]])\n",
    "#y_pred_rec"
   ]
  },
  {
   "cell_type": "code",
   "execution_count": 16,
   "metadata": {},
   "outputs": [
    {
     "data": {
      "text/plain": [
       "0.8914163251877718"
      ]
     },
     "execution_count": 16,
     "metadata": {},
     "output_type": "execute_result"
    }
   ],
   "source": [
    "## Evaluating the Model Performance - R2 Score\n",
    "r2_score(y_rec_test, y_pred_rec)\n"
   ]
  },
  {
   "cell_type": "code",
   "execution_count": 17,
   "metadata": {},
   "outputs": [
    {
     "name": "stdout",
     "output_type": "stream",
     "text": [
      "Accuracy: 86.11 %\n",
      "Standard Deviation: 5.96 %\n"
     ]
    }
   ],
   "source": [
    "## Applying k-Fold Cross Validation\n",
    "accuracies = cross_val_score(estimator = regressor, X = X_rec_train, y = y_rec_train, cv = 10)\n",
    "print(\"Accuracy: {:.2f} %\".format(accuracies.mean()*100))\n",
    "print(\"Standard Deviation: {:.2f} %\".format(accuracies.std()*100))"
   ]
  },
  {
   "cell_type": "markdown",
   "metadata": {},
   "source": [
    "## -------------------------------- ** ------------------------------------\n"
   ]
  },
  {
   "cell_type": "markdown",
   "metadata": {},
   "source": [
    "## Deaths"
   ]
  },
  {
   "cell_type": "code",
   "execution_count": 18,
   "metadata": {},
   "outputs": [],
   "source": [
    "X_death = dataset[[ \"ISO3\", \"Days\"]].values\n",
    "y_death = dataset[\"Recovered\"].values"
   ]
  },
  {
   "cell_type": "code",
   "execution_count": 19,
   "metadata": {},
   "outputs": [],
   "source": [
    "# ## Encoding categorical data\n",
    "\n",
    "# # 0 for iso3 in the first column\n",
    "\n",
    "ct = ColumnTransformer(transformers=[('encoder', OneHotEncoder(), [0])], remainder='passthrough')\n",
    "X_death = np.array(ct.fit_transform(X_death))\n"
   ]
  },
  {
   "cell_type": "code",
   "execution_count": 20,
   "metadata": {},
   "outputs": [],
   "source": [
    "# Splitting the dataset into the Training set and Test set\n",
    "X_death_train, X_death_test, y_death_train, y_death_test = train_test_split(X_death, y_death, test_size = 0.2, random_state = 42)"
   ]
  },
  {
   "cell_type": "code",
   "execution_count": 21,
   "metadata": {},
   "outputs": [
    {
     "data": {
      "text/plain": [
       "RandomForestRegressor(bootstrap=True, ccp_alpha=0.0, criterion='mse',\n",
       "                      max_depth=None, max_features='auto', max_leaf_nodes=None,\n",
       "                      max_samples=None, min_impurity_decrease=0.0,\n",
       "                      min_impurity_split=None, min_samples_leaf=1,\n",
       "                      min_samples_split=2, min_weight_fraction_leaf=0.0,\n",
       "                      n_estimators=10, n_jobs=None, oob_score=False,\n",
       "                      random_state=42, verbose=0, warm_start=False)"
      ]
     },
     "execution_count": 21,
     "metadata": {},
     "output_type": "execute_result"
    }
   ],
   "source": [
    "regressor = RandomForestRegressor(n_estimators = 10, random_state = 42)\n",
    "regressor.fit(X_death_train, y_death_train)"
   ]
  },
  {
   "cell_type": "code",
   "execution_count": 22,
   "metadata": {},
   "outputs": [],
   "source": [
    "## Predicting the Test set results\n",
    "\n",
    "y_pred_death = regressor.predict(X_death_test)\n",
    "\n",
    "# y_pred_death = regressor.predict([[1,0, 100]])\n",
    "# y_pred_death"
   ]
  },
  {
   "cell_type": "code",
   "execution_count": 23,
   "metadata": {},
   "outputs": [
    {
     "data": {
      "text/plain": [
       "0.8914163251877718"
      ]
     },
     "execution_count": 23,
     "metadata": {},
     "output_type": "execute_result"
    }
   ],
   "source": [
    "## Evaluating the Model Performance - R2 Score\n",
    "r2_score(y_death_test, y_pred_death)\n"
   ]
  },
  {
   "cell_type": "code",
   "execution_count": 24,
   "metadata": {},
   "outputs": [
    {
     "name": "stdout",
     "output_type": "stream",
     "text": [
      "Accuracy: 86.11 %\n",
      "Standard Deviation: 5.96 %\n"
     ]
    }
   ],
   "source": [
    "## Applying k-Fold Cross Validation\n",
    "accuracies = cross_val_score(estimator = regressor, X = X_death_train, y = y_death_train, cv = 10)\n",
    "print(\"Accuracy: {:.2f} %\".format(accuracies.mean()*100))\n",
    "print(\"Standard Deviation: {:.2f} %\".format(accuracies.std()*100))"
   ]
  },
  {
   "cell_type": "code",
   "execution_count": null,
   "metadata": {},
   "outputs": [],
   "source": []
  }
 ],
 "metadata": {
  "kernelspec": {
   "display_name": "machine_learning",
   "language": "python",
   "name": "machine_learning"
  },
  "language_info": {
   "codemirror_mode": {
    "name": "ipython",
    "version": 3
   },
   "file_extension": ".py",
   "mimetype": "text/x-python",
   "name": "python",
   "nbconvert_exporter": "python",
   "pygments_lexer": "ipython3",
   "version": "3.7.6"
  }
 },
 "nbformat": 4,
 "nbformat_minor": 4
}
